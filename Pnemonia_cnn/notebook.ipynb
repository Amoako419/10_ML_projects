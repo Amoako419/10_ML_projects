{
 "cells": [
  {
   "cell_type": "code",
   "execution_count": null,
   "metadata": {},
   "outputs": [],
   "source": [
    "# Importing the necessary libraries\n",
    "import torch.nn as nn\n",
    "import torch\n",
    "import torchvision\n",
    "from torchvision import transforms\n",
    "from torchvision.datasets import ImageFolder"
   ]
  },
  {
   "cell_type": "code",
   "execution_count": null,
   "metadata": {},
   "outputs": [],
   "source": [
    "# Defining the path of the dataset\n",
    "train_path = './chest_xray/train'\n",
    "val_path = './chest_xray/val'\n",
    "test_path = './chest_xray/test'"
   ]
  },
  {
   "cell_type": "code",
   "execution_count": null,
   "metadata": {},
   "outputs": [],
   "source": [
    "# Defining the transforms\n",
    "img_transform = transforms.Compose([\n",
    "    transforms.Resize(64),\n",
    "    transforms.ToTensor(),\n",
    "    transforms.Normalize(mean=[0.485,0.456,0.406],std=[0.229,0.224,0.225])\n",
    "])"
   ]
  },
  {
   "cell_type": "code",
   "execution_count": null,
   "metadata": {},
   "outputs": [],
   "source": [
    "# Applying the transformation to the dataset\n",
    "train_data = ImageFolder(\n",
    "    root=train_path,transform=img_transform\n",
    ")\n",
    "\n",
    "val_data = ImageFolder(root=val_path,transform=img_transform)\n",
    "\n",
    "test_data = ImageFolder(root=test_path,transform=img_transform)\n"
   ]
  },
  {
   "cell_type": "code",
   "execution_count": null,
   "metadata": {},
   "outputs": [],
   "source": [
    "class CNNNet(nn.Module):\n",
    "    def __init__(self):\n",
    "        super(CNNNet, self).__init__()\n",
    "        #First Conv2d\n",
    "        self.features = nn.Sequential(\n",
    "            # First conv2d\n",
    "            nn.Conv2d(3,64,kernel_size=11,stride=4,padding=2),\n",
    "            nn.ReLU(),\n",
    "            nn.MaxPool2d(kernel_size=3,stride=2),\n",
    "            \n",
    "            # Second conv2d\n",
    "            nn.Conv2d(64,128,kernel_size=5,padding=2),\n",
    "            nn.ReLU(),\n",
    "            nn.MaxPool2d(kernel_size=5,stride=2),\n",
    "            \n",
    "            # Third conv2d\n",
    "            nn.Conv2d(128,256,kernel_size=8,stride=5,padding=3),\n",
    "            nn.ReLU(),\n",
    "            nn.MaxPool2d(kernel_size=8,stride=3),\n",
    "            \n",
    "            # Fourth conv2d\n",
    "            nn.Conv2d(256,512,kernel_size=8,stride=5,padding=4),\n",
    "            nn.ReLU(),\n",
    "            \n",
    "            # Fifth conv2d\n",
    "            nn.Conv2d(512,512,kernel_size=8,stride=5,padding=4),\n",
    "            nn.ReLU(),\n",
    "            \n",
    "            \n",
    "            \n",
    "        )"
   ]
  },
  {
   "cell_type": "code",
   "execution_count": 7,
   "metadata": {},
   "outputs": [
    {
     "name": "stdout",
     "output_type": "stream",
     "text": [
      "1. Hi Victoria \n",
      "2. Hi Victoria \n",
      "3. Hi Victoria \n",
      "4. Hi Victoria \n"
     ]
    }
   ],
   "source": [
    "for i in range(4):\n",
    "    print(f\"{i+1}. Hi Victoria \")"
   ]
  }
 ],
 "metadata": {
  "kernelspec": {
   "display_name": "pytorch",
   "language": "python",
   "name": "python3"
  },
  "language_info": {
   "codemirror_mode": {
    "name": "ipython",
    "version": 3
   },
   "file_extension": ".py",
   "mimetype": "text/x-python",
   "name": "python",
   "nbconvert_exporter": "python",
   "pygments_lexer": "ipython3",
   "version": "3.11.7"
  }
 },
 "nbformat": 4,
 "nbformat_minor": 2
}
